{
 "cells": [
  {
   "cell_type": "code",
   "execution_count": 1,
   "metadata": {},
   "outputs": [
    {
     "name": "stdout",
     "output_type": "stream",
     "text": [
      "Requirement already satisfied: spacy in ./.env/lib/python3.10/site-packages (3.4.3)\n",
      "Requirement already satisfied: catalogue<2.1.0,>=2.0.6 in ./.env/lib/python3.10/site-packages (from spacy) (2.0.8)\n",
      "Requirement already satisfied: srsly<3.0.0,>=2.4.3 in ./.env/lib/python3.10/site-packages (from spacy) (2.4.5)\n",
      "Requirement already satisfied: packaging>=20.0 in ./.env/lib/python3.10/site-packages (from spacy) (21.3)\n",
      "Requirement already satisfied: requests<3.0.0,>=2.13.0 in ./.env/lib/python3.10/site-packages (from spacy) (2.28.1)\n",
      "Requirement already satisfied: thinc<8.2.0,>=8.1.0 in ./.env/lib/python3.10/site-packages (from spacy) (8.1.5)\n",
      "Requirement already satisfied: wasabi<1.1.0,>=0.9.1 in ./.env/lib/python3.10/site-packages (from spacy) (0.10.1)\n",
      "Requirement already satisfied: jinja2 in ./.env/lib/python3.10/site-packages (from spacy) (3.1.2)\n",
      "Requirement already satisfied: numpy>=1.15.0 in ./.env/lib/python3.10/site-packages (from spacy) (1.23.5)\n",
      "Requirement already satisfied: murmurhash<1.1.0,>=0.28.0 in ./.env/lib/python3.10/site-packages (from spacy) (1.0.9)\n",
      "Requirement already satisfied: setuptools in ./.env/lib/python3.10/site-packages (from spacy) (59.6.0)\n",
      "Requirement already satisfied: typer<0.8.0,>=0.3.0 in ./.env/lib/python3.10/site-packages (from spacy) (0.7.0)\n",
      "Requirement already satisfied: tqdm<5.0.0,>=4.38.0 in ./.env/lib/python3.10/site-packages (from spacy) (4.64.1)\n",
      "Requirement already satisfied: spacy-loggers<2.0.0,>=1.0.0 in ./.env/lib/python3.10/site-packages (from spacy) (1.0.3)\n",
      "Requirement already satisfied: pathy>=0.3.5 in ./.env/lib/python3.10/site-packages (from spacy) (0.10.0)\n",
      "Requirement already satisfied: preshed<3.1.0,>=3.0.2 in ./.env/lib/python3.10/site-packages (from spacy) (3.0.8)\n",
      "Requirement already satisfied: spacy-legacy<3.1.0,>=3.0.10 in ./.env/lib/python3.10/site-packages (from spacy) (3.0.10)\n",
      "Requirement already satisfied: cymem<2.1.0,>=2.0.2 in ./.env/lib/python3.10/site-packages (from spacy) (2.0.7)\n",
      "Requirement already satisfied: langcodes<4.0.0,>=3.2.0 in ./.env/lib/python3.10/site-packages (from spacy) (3.3.0)\n",
      "Requirement already satisfied: pydantic!=1.8,!=1.8.1,<1.11.0,>=1.7.4 in ./.env/lib/python3.10/site-packages (from spacy) (1.10.2)\n",
      "Requirement already satisfied: pyparsing!=3.0.5,>=2.0.2 in ./.env/lib/python3.10/site-packages (from packaging>=20.0->spacy) (3.0.9)\n",
      "Requirement already satisfied: smart-open<6.0.0,>=5.2.1 in ./.env/lib/python3.10/site-packages (from pathy>=0.3.5->spacy) (5.2.1)\n",
      "Requirement already satisfied: typing-extensions>=4.1.0 in ./.env/lib/python3.10/site-packages (from pydantic!=1.8,!=1.8.1,<1.11.0,>=1.7.4->spacy) (4.4.0)\n",
      "Requirement already satisfied: charset-normalizer<3,>=2 in ./.env/lib/python3.10/site-packages (from requests<3.0.0,>=2.13.0->spacy) (2.1.1)\n",
      "Requirement already satisfied: idna<4,>=2.5 in ./.env/lib/python3.10/site-packages (from requests<3.0.0,>=2.13.0->spacy) (3.4)\n",
      "Requirement already satisfied: urllib3<1.27,>=1.21.1 in ./.env/lib/python3.10/site-packages (from requests<3.0.0,>=2.13.0->spacy) (1.26.13)\n",
      "Requirement already satisfied: certifi>=2017.4.17 in ./.env/lib/python3.10/site-packages (from requests<3.0.0,>=2.13.0->spacy) (2022.9.24)\n",
      "Requirement already satisfied: blis<0.8.0,>=0.7.8 in ./.env/lib/python3.10/site-packages (from thinc<8.2.0,>=8.1.0->spacy) (0.7.9)\n",
      "Requirement already satisfied: confection<1.0.0,>=0.0.1 in ./.env/lib/python3.10/site-packages (from thinc<8.2.0,>=8.1.0->spacy) (0.0.3)\n",
      "Requirement already satisfied: click<9.0.0,>=7.1.1 in ./.env/lib/python3.10/site-packages (from typer<0.8.0,>=0.3.0->spacy) (8.1.3)\n",
      "Requirement already satisfied: MarkupSafe>=2.0 in ./.env/lib/python3.10/site-packages (from jinja2->spacy) (2.1.1)\n",
      "Note: you may need to restart the kernel to use updated packages.\n"
     ]
    }
   ],
   "source": [
    "%pip install spacy"
   ]
  },
  {
   "cell_type": "code",
   "execution_count": 2,
   "metadata": {},
   "outputs": [
    {
     "name": "stdout",
     "output_type": "stream",
     "text": [
      "\u001b[38;5;4mℹ Auto-detected token-per-line NER format\u001b[0m\n",
      "\u001b[38;5;3m⚠ Document delimiters found, automatic document segmentation with `-n`\n",
      "disabled.\u001b[0m\n",
      "\u001b[38;5;2m✔ Generated output file (1 documents): train.json\u001b[0m\n"
     ]
    }
   ],
   "source": [
    "!python -m spacy convert data/train.tsv ./ -t json -n 1 -c iob"
   ]
  },
  {
   "cell_type": "code",
   "execution_count": 3,
   "metadata": {},
   "outputs": [
    {
     "name": "stdout",
     "output_type": "stream",
     "text": [
      "\u001b[38;5;4mℹ Auto-detected token-per-line NER format\u001b[0m\n",
      "\u001b[38;5;3m⚠ Document delimiters found, automatic document segmentation with `-n`\n",
      "disabled.\u001b[0m\n",
      "\u001b[38;5;2m✔ Generated output file (1 documents): dev.json\u001b[0m\n"
     ]
    }
   ],
   "source": [
    "!python -m spacy convert data/dev.tsv ./ -t json -n 1 -c iob"
   ]
  },
  {
   "cell_type": "code",
   "execution_count": 4,
   "metadata": {},
   "outputs": [
    {
     "name": "stdout",
     "output_type": "stream",
     "text": [
      "\u001b[38;5;4mℹ Auto-detected token-per-line NER format\u001b[0m\n",
      "\u001b[38;5;3m⚠ Document delimiters found, automatic document segmentation with `-n`\n",
      "disabled.\u001b[0m\n",
      "\u001b[38;5;2m✔ Generated output file (1 documents): test.json\u001b[0m\n"
     ]
    }
   ],
   "source": [
    "!python -m spacy convert data/test.tsv ./ -t json -n 1 -c iob"
   ]
  },
  {
   "cell_type": "code",
   "execution_count": 5,
   "metadata": {},
   "outputs": [
    {
     "name": "stdout",
     "output_type": "stream",
     "text": [
      "\u001b[38;5;2m✔ Generated output file (49 documents): dev.spacy\u001b[0m\n"
     ]
    }
   ],
   "source": [
    "!python -m spacy convert dev.json ./ -t spacy"
   ]
  },
  {
   "cell_type": "code",
   "execution_count": 6,
   "metadata": {},
   "outputs": [
    {
     "name": "stdout",
     "output_type": "stream",
     "text": [
      "\u001b[38;5;2m✔ Generated output file (99 documents): test.spacy\u001b[0m\n"
     ]
    }
   ],
   "source": [
    "!python -m spacy convert test.json ./ -t spacy"
   ]
  },
  {
   "cell_type": "code",
   "execution_count": 7,
   "metadata": {},
   "outputs": [
    {
     "name": "stdout",
     "output_type": "stream",
     "text": [
      "\u001b[38;5;2m✔ Generated output file (735 documents): train.spacy\u001b[0m\n"
     ]
    }
   ],
   "source": [
    "!python -m spacy convert train.json ./ -t spacy"
   ]
  },
  {
   "cell_type": "markdown",
   "metadata": {},
   "source": [
    "# Total number of documents = 49 + 99 + 735 = 883"
   ]
  },
  {
   "cell_type": "code",
   "execution_count": 10,
   "metadata": {},
   "outputs": [
    {
     "name": "stdout",
     "output_type": "stream",
     "text": [
      "\u001b[38;5;2m✔ Auto-filled config with all values\u001b[0m\n",
      "\u001b[38;5;2m✔ Saved config\u001b[0m\n",
      "config.cfg\n",
      "You can now add your data and train your pipeline:\n",
      "python -m spacy train config.cfg --paths.train ./train.spacy --paths.dev ./dev.spacy\n"
     ]
    }
   ],
   "source": [
    "!python -m spacy init fill-config base_config.cfg config.cfg"
   ]
  },
  {
   "cell_type": "code",
   "execution_count": 11,
   "metadata": {},
   "outputs": [
    {
     "name": "stdout",
     "output_type": "stream",
     "text": [
      "\u001b[38;5;4mℹ Saving to output directory: .\u001b[0m\n",
      "\u001b[38;5;4mℹ Using CPU\u001b[0m\n",
      "\u001b[1m\n",
      "=========================== Initializing pipeline ===========================\u001b[0m\n",
      "[2022-12-05 17:01:30,125] [INFO] Set up nlp object from config\n",
      "[2022-12-05 17:01:30,147] [INFO] Pipeline: ['tok2vec', 'ner']\n",
      "[2022-12-05 17:01:30,150] [INFO] Created vocabulary\n",
      "[2022-12-05 17:01:30,152] [INFO] Finished initializing nlp object\n",
      "[2022-12-05 17:02:08,906] [INFO] Initialized pipeline components: ['tok2vec', 'ner']\n",
      "\u001b[38;5;2m✔ Initialized pipeline\u001b[0m\n",
      "\u001b[1m\n",
      "============================= Training pipeline =============================\u001b[0m\n",
      "\u001b[38;5;4mℹ Pipeline: ['tok2vec', 'ner']\u001b[0m\n",
      "\u001b[38;5;4mℹ Initial learn rate: 0.001\u001b[0m\n",
      "E    #       LOSS TOK2VEC  LOSS NER  ENTS_F  ENTS_P  ENTS_R  SCORE \n",
      "---  ------  ------------  --------  ------  ------  ------  ------\n",
      "  0       0          0.00   2418.45    0.00    0.00    0.00    0.00\n",
      "  0     200      17074.67  134178.02   44.34   54.92   37.18    0.44\n",
      "  0     400      15460.65  85155.10   46.91   58.13   39.32    0.47\n",
      "  0     600      28820.70  79612.00   47.07   66.24   36.51    0.47\n",
      "  1     800      62232.57  83620.59   47.95   69.32   36.66    0.48\n",
      "  1    1000     102318.76  83661.38   48.00   65.05   38.03    0.48\n",
      "  1    1200      28753.17  73789.57   51.12   59.28   44.93    0.51\n",
      "  1    1400      31370.02  75180.20   47.21   71.45   35.25    0.47\n",
      "  2    1600      48514.92  74714.90   49.41   60.71   41.66    0.49\n",
      "  2    1800      22046.21  71032.64   47.53   69.52   36.11    0.48\n",
      "  2    2000      95537.50  80071.87   49.87   66.28   39.97    0.50\n",
      "  2    2200      36205.09  76890.51   50.84   56.48   46.21    0.51\n",
      "  3    2400      38982.78  71989.28   49.42   66.83   39.21    0.49\n",
      "  3    2600      95270.56  77534.99   50.84   59.01   44.65    0.51\n",
      "  3    2800      40953.76  69273.30   51.30   60.67   44.44    0.51\n",
      "  4    3000      31486.97  70843.00   50.51   61.41   42.89    0.51\n",
      "  4    3200      50800.98  72335.79   50.94   62.01   43.22    0.51\n",
      "  4    3400     100930.90  68382.63   50.23   63.47   41.56    0.50\n",
      "  4    3600      82766.21  71453.96   50.62   63.61   42.04    0.51\n",
      "  5    3800      83093.74  73482.46   48.31   72.02   36.34    0.48\n",
      "  5    4000      52027.06  71216.70   49.55   65.98   39.67    0.50\n",
      "  5    4200     104448.03  77152.04   47.33   72.01   35.25    0.47\n",
      "  5    4400      74182.10  62590.11   47.04   71.78   34.98    0.47\n",
      "\u001b[38;5;2m✔ Saved pipeline to output directory\u001b[0m\n",
      "model-last\n"
     ]
    }
   ],
   "source": [
    "!python -m spacy train config.cfg --paths.train train.spacy --paths.dev dev.spacy --output ./"
   ]
  },
  {
   "cell_type": "code",
   "execution_count": null,
   "metadata": {},
   "outputs": [],
   "source": []
  }
 ],
 "metadata": {
  "kernelspec": {
   "display_name": "Python 3.10.6 ('.env': venv)",
   "language": "python",
   "name": "python3"
  },
  "language_info": {
   "codemirror_mode": {
    "name": "ipython",
    "version": 3
   },
   "file_extension": ".py",
   "mimetype": "text/x-python",
   "name": "python",
   "nbconvert_exporter": "python",
   "pygments_lexer": "ipython3",
   "version": "3.10.6"
  },
  "orig_nbformat": 4,
  "vscode": {
   "interpreter": {
    "hash": "82da5c2f464cb6ddee9ad094a342dd7b3f42cfbd942860a2d7362027da622bd9"
   }
  }
 },
 "nbformat": 4,
 "nbformat_minor": 2
}
